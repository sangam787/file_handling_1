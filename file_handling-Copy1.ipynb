{
 "cells": [
  {
   "cell_type": "code",
   "execution_count": null,
   "id": "a506e100-410f-4bb6-8929-c3d7bf57ecc7",
   "metadata": {},
   "outputs": [],
   "source": [
    "\n",
    "                            \"Files, exceptional handling, logging and memory management Questions\" \n",
    "\n",
    "\"\"\"\n",
    "Que-1. What is the difference between interpreted and compiled languages? \n",
    "Ans-1 Compiled Language:-\n",
    "A compiled language is a programming language that is generally compiled and not interpreted. \n",
    "It is one where the program, once compiled, is expressed in the instructions of the target machine; \n",
    "this machine code is undecipherable by humans. Types of compiled language - C, C++, C#, CLEO, COBOL, etc. \n",
    "Interpreted Language:-\n",
    "An interpreted language is a programming language that is generally interpreted, without compiling a \n",
    "program into machine instructions. It is one where the instructions are not directly executed by the \n",
    "target machine, but instead, read and executed by some other program. \n",
    "Interpreted language ranges - JavaScript, Perl, Python, BASIC, etc. \n",
    "\"\"\"\n",
    "\n"
   ]
  },
  {
   "cell_type": "code",
   "execution_count": null,
   "id": "3c54ad1a-9682-47ee-884c-14a1f3d26133",
   "metadata": {},
   "outputs": [],
   "source": [
    "\"\"\"\n",
    "Que-2. What is exception handling in Python? \n",
    "Ans-2\n",
    "Error in Python can be of two types i.e. Syntax errors and Exceptions. Errors are problems in a program \n",
    "due to which the program will stop the execution. On the other hand, exceptions are raised when some internal \n",
    "events occur which change the normal flow of the program. \n",
    "\"\"\"\n",
    "\n"
   ]
  },
  {
   "cell_type": "code",
   "execution_count": null,
   "id": "2c009c00-ec39-4138-b599-b2a856a4ef37",
   "metadata": {},
   "outputs": [],
   "source": [
    "\"\"\"\n",
    "Que-3. What is the purpose of the finally block in exception handling? \n",
    "Ans-3\n",
    "In programming, there may be some situation in which the current method ends up while handling some exceptions. \n",
    "But the method may require some additional steps before its termination, like closing a file or a network and so on. \n",
    "So, in order to handle these situations, Python provides a keyword finally, which is always executed after try and \n",
    "except blocks. The finally block always executes after normal termination of try block or after try block terminates \n",
    "due to some exception.\n",
    "\"\"\"\n",
    "\n"
   ]
  },
  {
   "cell_type": "code",
   "execution_count": null,
   "id": "24d28fab-e6d1-4af6-9f1d-1e3bbcf76249",
   "metadata": {},
   "outputs": [],
   "source": [
    "\"\"\"\n",
    "Que-4. What is logging in Python? \n",
    "Ans-4\n",
    "Logging is a means of tracking events that happen when some software runs. Logging is important for software developing, \n",
    "debugging, and running. If you don't have any logging record and your program crashes, there are very few chances that \n",
    "you detect the cause of the problem. And if you detect the cause, it will consume a lot of time. With logging, you can \n",
    "leave a trail of breadcrumbs so that if something goes wrong, we can determine the cause of the problem. \n",
    "There are a number of situations like if you are expecting an integer, you have been given a float and you can a cloud API, \n",
    "the service is down for maintenance, and much more. Such problems are out of control and are hard to determine. \n",
    "\"\"\"\n",
    "\n"
   ]
  },
  {
   "cell_type": "code",
   "execution_count": null,
   "id": "70b27a45-6e75-4bb5-afb8-7031fdc57564",
   "metadata": {},
   "outputs": [],
   "source": [
    "\"\"\"\n",
    "Que-5. What is the significance of the_del method in Python? \n",
    "Ans-5\n",
    "Python's del statement is used to delete variables and objects in the Python program. Iterable objects such as user-defined \n",
    "objects, lists, set, tuple, dictionary, variables defined by the user, etc. can be deleted from existence and from the memory \n",
    "locations in Python using the del statement.\n",
    "\"\"\"\n",
    "\n"
   ]
  },
  {
   "cell_type": "code",
   "execution_count": null,
   "id": "966cf9f2-25c7-4652-9094-d802d6ab608c",
   "metadata": {},
   "outputs": [],
   "source": [
    "\"\"\"\n",
    "Que-6. What is the difference between import and from... import in Python?\n",
    "Ans-6\n",
    "import:-imports an entire code library.\n",
    "from import:- imports a specific member or members of the library.\n",
    "\"\"\"\n"
   ]
  },
  {
   "cell_type": "code",
   "execution_count": null,
   "id": "f697cb4d-18ab-4614-8daf-cba4f9a9e221",
   "metadata": {},
   "outputs": [],
   "source": [
    "\"\"\"\n",
    "Que-8. What is the purpose of the with statement when handling files in Python? \n",
    "Ans-8\n",
    "In Python, the with statement replaces a try-catch block with a concise shorthand. More importantly, it ensures closing \n",
    "resources right after processing them. A common example of using the with statement is reading or writing to a file. \n",
    "A function or class that supports the with statement is known as a context manager. A context manager allows you to open \n",
    "and close resources right when you want to. For example, the open() function is a context manager. When you call the \n",
    "open() function using the with statement, the file closes automatically after you've processed the file.\n",
    "\"\"\"\n",
    "\n"
   ]
  },
  {
   "cell_type": "code",
   "execution_count": null,
   "id": "e90eb59a-867b-4d6a-8b5a-3e63a8cfcbf0",
   "metadata": {},
   "outputs": [],
   "source": [
    "\"\"\"\n",
    "Que-9. What is the difference between multithreading and multiprocessing? \n",
    "Ans-9\n",
    "Multithreading:-\n",
    "Involves creating multiple threads within a single process, which run independently but share process resources. \n",
    "Multithreading is more similar to concurrency, and it's achieved by running tasks in separate threads within a single core. \n",
    "Multiprocessing:-\n",
    "Involves running multiple processes, each with its own dedicated resources. Multiprocessing is more similar to parallelism, \n",
    "and it's achieved by running tasks on separate cores. \n",
    "\"\"\"\n",
    "\n"
   ]
  },
  {
   "cell_type": "code",
   "execution_count": null,
   "id": "7d10487f-ab40-4669-b7d0-cee338c4c6eb",
   "metadata": {},
   "outputs": [],
   "source": [
    "\"\"\"\n",
    "Que-10. What are the advantages of using logging in a program? \n",
    "Ans-10\n",
    "Logging in a program has many advantages, including:\n",
    "Debugging:- Logging can help with debugging and troubleshooting a program. \n",
    "Monitoring:- Logging can help monitor a program's performance. \n",
    "Identifying issues:- Logging can help identify issues and bugs in a program. \n",
    "Understanding application usage:- Logging can help developers understand how users are using an application. \n",
    "Meeting compliance and security standards:- Logging can help meet compliance and security standards in distributed systems. \n",
    "Improving customer experience:- Logging can help improve customer experience. \n",
    "Reducing response times:- Logging can help reduce response times for repairing issues. \n",
    "Increasing security:- Logging can help increase security. \n",
    "Providing insights into system activities:- Logging can provide valuable insights into system activities. \n",
    "\"\"\"\n",
    "\n"
   ]
  },
  {
   "cell_type": "code",
   "execution_count": null,
   "id": "4013792b-9872-4046-840a-25c1c8d8d651",
   "metadata": {},
   "outputs": [],
   "source": [
    "\"\"\"\n",
    "Que-11. What is memory management in Python? \n",
    "Ans-11\n",
    "Memory management in Python is the process of automatically allocating and managing memory so that programs can \n",
    "run efficiently. Python's memory manager handles most of the memory management tasks, allowing developers to focus on their code.\n",
    "\"\"\"\n",
    "\n"
   ]
  },
  {
   "cell_type": "code",
   "execution_count": null,
   "id": "083ae380-f9c7-4614-90b8-41c72c935987",
   "metadata": {},
   "outputs": [],
   "source": [
    "\"\"\"\n",
    "Que-12. What are the basic steps involved in exception handling in Python? \n",
    "Ans-12\n",
    "The basic steps for exception handling in Python are to use the try and except block:\n",
    "Try: Run the code that might raise an exception in the try block.\n",
    "Except: If an exception is raised, the except block will be executed.\n",
    "\"\"\"\n",
    "\n"
   ]
  },
  {
   "cell_type": "code",
   "execution_count": null,
   "id": "a61c3d6d-61d7-4f62-a9a7-c78c0e25ca6f",
   "metadata": {},
   "outputs": [],
   "source": [
    "\"\"\"\n",
    "Que-13. Why is memory management important in Python? \n",
    "Ans-13\n",
    "Memory management in Python is important because it allows programs to run efficiently, and it prevents memory leaks:\n",
    "Efficient programs\n",
    "Memory management ensures that programs have enough memory to run and access resources. This leads to faster processing and less need for RAM.\n",
    "Prevents memory leaks\n",
    "Memory leaks occur when used memory isn't freed after a process ends, causing RAM usage to increase continuously. This can slow down or impair device performance.\n",
    "Automatic management\n",
    "Python automatically manages memory, so you don't need to worry about it. This allows you to focus on your code. \n",
    "\"\"\"\n",
    "\n"
   ]
  },
  {
   "cell_type": "code",
   "execution_count": null,
   "id": "56e5544a-eab6-4fb6-aed3-08c5eea446b2",
   "metadata": {},
   "outputs": [],
   "source": [
    "\"\"\"\n",
    "Que-14. What is the role of try and except in exception handling? \n",
    "Ans-14\n",
    "Try Except in Python\n",
    "Try and Except statement is used to handle these errors within our code in Python. The try block is used to check some code \n",
    "for errors i.e the code inside the try block will execute when there is no error in the program. Whereas the code inside the \n",
    "except block will execute whenever the program encounters some error in the preceding try block.\n",
    "\"\"\"\n",
    "\n"
   ]
  },
  {
   "cell_type": "code",
   "execution_count": null,
   "id": "11b8c1e6-eeda-4d79-b25c-8f6a34e9ee38",
   "metadata": {},
   "outputs": [],
   "source": [
    "\"\"\"\n",
    "Que-15. How does Python's garbage collection system work? \n",
    "Ans-15\n",
    "Garbage collection, an automatic memory management technique, is used by programming languages to deallocate memory that is \n",
    "no longer required by the program. The garbage collector in Python locates and releases memory occupied by objects that can \n",
    "no longer be accessed or referenced by the program's code.\n",
    "\"\"\"\n",
    "\n"
   ]
  },
  {
   "cell_type": "code",
   "execution_count": null,
   "id": "c8bb653f-aea7-44eb-9daf-227da9d57e8e",
   "metadata": {},
   "outputs": [],
   "source": [
    "\"\"\"\n",
    "Que-16. What is the purpose of the else block in exception handling? \n",
    "Ans-16\n",
    "The try block lets us test a block of code for errors. The except block lets us handle the error. \n",
    "The else block lets us execute code when there is no error.\n",
    "\"\"\"\n",
    "\n"
   ]
  },
  {
   "cell_type": "code",
   "execution_count": null,
   "id": "b34565e2-1741-4496-bbcd-f6f61bed0ef6",
   "metadata": {},
   "outputs": [],
   "source": [
    "\"\"\"\n",
    "Que-17. What are the common logging levels in Python? \n",
    "Ans-17\n",
    "Python has six logging levels, each with an integer value that indicates the severity of the log:\n",
    "NOTSET: 0\n",
    "DEBUG: 10\n",
    "INFO: 20\n",
    "WARN: 30\n",
    "ERROR: 40\n",
    "CRITICAL: 50\n",
    "\"\"\"\n",
    "\n"
   ]
  },
  {
   "cell_type": "code",
   "execution_count": null,
   "id": "a695e18a-9578-493b-a3be-615fe6294656",
   "metadata": {},
   "outputs": [],
   "source": [
    "\"\"\"\n",
    "Que-18. What is the difference between os.fork() and multiprocessing in Python? \n",
    "Ans-18\n",
    "when running a Windows OS we cannot use this method. multiprocessing is a higher-level interface to execute a part of \n",
    "the currently running program. Therefore, it - as forking does - creates a copy of our process current state. That is to say, it \n",
    "takes care of the forking of our program for us.\n",
    "\"\"\"\n",
    "\n"
   ]
  },
  {
   "cell_type": "code",
   "execution_count": null,
   "id": "3a39c83c-ab89-4274-88c5-79d4ec155326",
   "metadata": {},
   "outputs": [],
   "source": [
    "\"\"\"\n",
    "Que-19. What is the importance of closing a file in Python? \n",
    "Ans-19\n",
    "Python does not flush the buffer that is writing data to the file until it is certain we are finished writing, which can be \n",
    "accomplished by closing the file. If we write to a file without closing it, the data will not be saved to the destination file.\n",
    "\"\"\"\n",
    "\n"
   ]
  },
  {
   "cell_type": "code",
   "execution_count": null,
   "id": "9e272c25-5fcd-4834-8a29-5feb34ab3ad4",
   "metadata": {},
   "outputs": [],
   "source": [
    "\"\"\"\n",
    "Que-20. What is the difference between file.read() and file.readline() in Python? \n",
    "Ans-20\n",
    "The `read()` method will read the entire content of the file or stream if no argument is provided, returning a string. \n",
    "On the other hand, the `readline()` method reads a single line up to the newline character (`\\n`) and returns \n",
    "it as a string. If there are no more lines to read, it will return an empty string.\n",
    "\"\"\"\n",
    "\n"
   ]
  },
  {
   "cell_type": "code",
   "execution_count": null,
   "id": "a7cd8601-5728-4fba-9a36-1e4c5ad522ba",
   "metadata": {},
   "outputs": [],
   "source": [
    "\"\"\"\n",
    "Que-21. What is the logging module in Python used for? \n",
    "Ans-21\n",
    "Python logging is a module that allows us to track events that occur while our program is running. We can use \n",
    "logging to record information about errors, warnings, and other events that occur during program execution. \n",
    "And logging is a useful tool for debugging, troubleshooting, and monitoring our program.\n",
    "\"\"\"\n",
    "\n"
   ]
  },
  {
   "cell_type": "code",
   "execution_count": null,
   "id": "7f4dad3c-92ed-412b-aa22-93ee693f397d",
   "metadata": {},
   "outputs": [],
   "source": [
    "\"\"\"\n",
    "Que-22. What is the os module in Python used for in file handling? \n",
    "Ans-22\n",
    "Python has a built-in os module with methods for interacting with the operating system, like creating files \n",
    "and directories, management of files and directories, input, output, environment variables, process management, etc.\n",
    "\"\"\"\n",
    "\n"
   ]
  },
  {
   "cell_type": "code",
   "execution_count": null,
   "id": "2d93a2b8-5fbf-4473-b348-0bd8d90cf7b1",
   "metadata": {},
   "outputs": [],
   "source": [
    "\"\"\"\n",
    "Que-23. What are the challenges associated with memory management in Python? \n",
    "Ans-23\n",
    "Memory management in Python can pose some challenges, including:\n",
    "Slower runtimes\n",
    "Python may hold freed memory in the interpreter instead of releasing it to the operating system, which can slow down program runtimes. \n",
    "Memory leaks\n",
    "Memory leaks can occur when references to objects are not released properly, or if circular references are created. \n",
    "Out-of-memory problems\n",
    "Python may experience out-of-memory problems that manifest as slowness, crashes, MemoryError, segfaults, or kill -9. \n",
    "However, Python does have some memory management techniques to help with these challenges, including:\n",
    "Reference counting\n",
    "Python keeps track of the number of references to each object. When an object's reference count drops to zero, it can be safely deallocated. \n",
    "Garbage collection\n",
    "Python automatically reclaims unused memory to ensure efficient use of memory resources. \n",
    "Generational garbage collection\n",
    "This type of garbage collection can break cyclic references and delete unused objects. \n",
    "Understanding how Python manages memory can help you write more efficient code and prevent memory leaks.\n",
    "\"\"\"\n",
    "\n"
   ]
  },
  {
   "cell_type": "code",
   "execution_count": null,
   "id": "e2c3b221-de2e-4eb2-98c4-81cb6c9dd2a1",
   "metadata": {},
   "outputs": [],
   "source": [
    "\"\"\"\n",
    "Que-24. How do you raise an exception manually in Python? \n",
    "Ans-24\n",
    "As a Python developer we can choose to throw an exception \n",
    "if a condition occurs. To throw (or raise) an exception, we use the raise keyword.\n",
    "\"\"\"\n",
    "\n"
   ]
  },
  {
   "cell_type": "code",
   "execution_count": null,
   "id": "06a0a0eb-1472-4678-85ea-a2b15a88ca1e",
   "metadata": {},
   "outputs": [],
   "source": [
    "\"\"\"\n",
    "Que-25. Why is it important to use multithreading in certain applications?\n",
    "Ans-25\n",
    "Multithreading minimizes the time required for context switching compared to switching between \n",
    "separate processes, as threads within the same process share the same memory space and can switch more quickly. \n",
    "This results in reduced overhead and improved system responsiveness.\n",
    "\n",
    "\"\"\""
   ]
  },
  {
   "cell_type": "code",
   "execution_count": 3,
   "id": "3b40b8cc-1930-4055-aded-92cf31d62c29",
   "metadata": {},
   "outputs": [],
   "source": [
    "                                             \"Practical Questions\" \n",
    "\n",
    "\n",
    "\"Que-1. How can you open a file for writing in Python and write a string to it?\" \n",
    "\n",
    "L = [\"My name is Sangam Mishra \\n\", \"I am studying in PWskills \\n\"]\n",
    "\n",
    "# Writing to file\n",
    "with open(\"myfile.txt\", \"w\") as file1:\n",
    "    # Writing data to a file\n",
    "    file1.write(\"Hello \\n\")\n",
    "    file1.writelines(L)\n",
    "\n",
    "\n",
    "\n"
   ]
  },
  {
   "cell_type": "code",
   "execution_count": null,
   "id": "e2e3e9f5-0570-45c8-b06f-2517a25e657d",
   "metadata": {},
   "outputs": [],
   "source": [
    "\"Que-2. Write a Python program to read the contents of a file and print each line.\" \n",
    "\n",
    "L = [\"My name is Sangam Mishra \\n\", \"I am studying in PWskills \\n\"]\n",
    "# Writing to file\n",
    "with open(\"myfile.txt\", \"w\") as file1:\n",
    "    # Writing data to a file\n",
    "    file1.write(\"Hello \\n\")\n",
    "    file1.writelines(L)\n",
    "# Reading from file\n",
    "with open(\"myfile.txt\", \"r+\") as file1:\n",
    "    # Reading from a file\n",
    "    print(file1.read())\n",
    "\n",
    "\n",
    "\n"
   ]
  },
  {
   "cell_type": "code",
   "execution_count": 5,
   "id": "5bb1a235-d847-4653-ab8e-ca2ed6324775",
   "metadata": {},
   "outputs": [
    {
     "name": "stdout",
     "output_type": "stream",
     "text": [
      "Hello \n",
      "My name is Sangam Mishra \n",
      "I am studying in PWskills \n",
      "\n"
     ]
    }
   ],
   "source": [
    "\"\"\"\n",
    "Que-3. How would you handle a case where the file doesn't exist while trying to open it for reading? \n",
    "If we are trying to open a file that dosen't exist then we simply open that file in 'w' mode .\n",
    "for example\n",
    "\"\"\"\n",
    "L = [\"My name is Sangam Mishra \\n\", \"I am studying in PWskills \\n\"]\n",
    "# Writing to file\n",
    "with open(\"myfile.txt\", \"w\") as file1:\n",
    "    # Writing data to a file\n",
    "    file1.write(\"Hello \\n\")\n",
    "    file1.writelines(L)\n",
    "# Reading from file\n",
    "with open(\"myfile.txt\", \"r+\") as file1:\n",
    "    # Reading from a file\n",
    "    print(file1.read())\n"
   ]
  },
  {
   "cell_type": "code",
   "execution_count": 6,
   "id": "54393317-5927-4cff-95b1-97c71bda9923",
   "metadata": {},
   "outputs": [],
   "source": [
    "\"Que-4. Write a Python script that reads from one file and writes its content to another file.\" \n",
    "\n",
    "# Reading from file\n",
    "with open(\"myfile.txt\", \"r\") as input:\n",
    "    \n",
    "# Writing data to a file    \n",
    "    with open(\"myfile.txt\", \"w\") as output:\n",
    "    # Reading from a file\n",
    "     # Writing each line from input file to \n",
    "        # output file using loop \n",
    "        for line in input: \n",
    "            output.write(line)\n",
    "\n",
    "\n",
    "\n",
    "\n"
   ]
  },
  {
   "cell_type": "code",
   "execution_count": null,
   "id": "0c8df1dd-13c6-4c62-999c-2b0e16200c81",
   "metadata": {},
   "outputs": [],
   "source": [
    "\"\"\"\n",
    "Que-5. How would you catch and handle division by zero error in Python? \n",
    "Que-6. Write a Python program that logs an error message to a log file when a division by zero exception occurs. \n",
    "Que-7. How do you log information at different levels (INFO, ERROR, WARNING) in Python using the logging module? \n",
    "Que-8. Write a program to handle a file opening error using exception handling. \n",
    "Que-9. How can you read a file line by line and store its content in a list in Python? \n",
    "Que-10. How can you append data to an existing file in Python? \n",
    "Que-11. Write a Python program that uses a try-except block to handle an error when attempting to access a dictionary \n",
    "key that doesn't exist. \n",
    "Que-12. Write a program that demonstrates using multiple except blocks to handle different types of exceptions. \n",
    "Que-13. How would you check if a file exists before attempting to read it in Python? \n",
    "Que-14. Write a program that uses the logging module to log both informational and error messages. \n",
    "Que-15. Write a Python program that prints the content of a file and handles the case when the file is empty. \n",
    "Que-16. Demonstrate how to use memory profiling to check the memory usage of a small program. \n",
    "Que-17. Write a Python program to create and write a list of numbers to a file, one number per line. \n",
    "Que-18. How would you implement a basic logging setup that logs to a file with rotation after IMB? \n",
    "Que-19. Write a program that handles both IndexError and KeyError using a try-except block. \n",
    "Que-20. How would you open a file and read its contents using a context manager in Python? \n",
    "Que-21. Write a Python program that reads a file and prints the number of occurrences of a specific word. \n",
    "Que-22. How can you check if a file is empty before attempting to read its contents? \n",
    "Que-23. Write a Python program that writes to a log file when an error occurs during file handling.\n",
    "\n"
   ]
  },
  {
   "cell_type": "code",
   "execution_count": null,
   "id": "6f0aa76a-17a9-43a1-bfdc-7d136872d02a",
   "metadata": {},
   "outputs": [],
   "source": []
  },
  {
   "cell_type": "code",
   "execution_count": null,
   "id": "cf142f5e-e024-43e4-8c78-aa0796bac148",
   "metadata": {},
   "outputs": [],
   "source": []
  },
  {
   "cell_type": "code",
   "execution_count": null,
   "id": "54264194-3658-45b4-896a-778c10d4192b",
   "metadata": {},
   "outputs": [],
   "source": []
  },
  {
   "cell_type": "code",
   "execution_count": null,
   "id": "b08a7a44-5007-42fb-b70a-b85f73d2dcf9",
   "metadata": {},
   "outputs": [],
   "source": []
  }
 ],
 "metadata": {
  "kernelspec": {
   "display_name": "Python 3 (ipykernel)",
   "language": "python",
   "name": "python3"
  },
  "language_info": {
   "codemirror_mode": {
    "name": "ipython",
    "version": 3
   },
   "file_extension": ".py",
   "mimetype": "text/x-python",
   "name": "python",
   "nbconvert_exporter": "python",
   "pygments_lexer": "ipython3",
   "version": "3.12.7"
  }
 },
 "nbformat": 4,
 "nbformat_minor": 5
}
